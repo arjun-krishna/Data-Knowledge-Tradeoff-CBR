{
 "cells": [
  {
   "cell_type": "code",
   "execution_count": 1,
   "metadata": {},
   "outputs": [],
   "source": [
    "import pandas as pd\n",
    "import numpy  as np"
   ]
  },
  {
   "cell_type": "code",
   "execution_count": 2,
   "metadata": {},
   "outputs": [],
   "source": [
    "import matplotlib.pyplot as plt\n",
    "plt.style.use('ggplot')\n",
    "from scipy.stats import norm"
   ]
  },
  {
   "cell_type": "markdown",
   "metadata": {},
   "source": [
    "### Term Paper Synthetic Data Generation"
   ]
  },
  {
   "cell_type": "markdown",
   "metadata": {},
   "source": [
    "<b>Modelling Probability of Acceptance</b> <br>\n",
    "If Medical Certificate is Present <br>\n",
    "&nbsp;&nbsp; Pr [accept | days, mc=True] $\\sim \\mathcal{N}(0, 10)$ <br>\n",
    "Else <br>\n",
    "&nbsp;&nbsp; Pr [accept | days, mc=False] $\\sim \\mathcal{N}(0, 4)$ <br>\n",
    "<br>\n",
    "Flip Probability = 1e-2 (Noise)\n"
   ]
  },
  {
   "cell_type": "code",
   "execution_count": 3,
   "metadata": {},
   "outputs": [
    {
     "data": {
      "image/png": "[encoded data removed]",
      "text/plain": [
       "<matplotlib.figure.Figure at 0x7f5f9bbfd450>"
      ]
     },
     "metadata": {},
     "output_type": "display_data"
    }
   ],
   "source": [
    "# Visualizing the Model \n",
    "x = np.linspace(0.0, 15.0)\n",
    "\n",
    "plt.subplot(1, 2, 1)\n",
    "plt.plot(x, norm.pdf(x,0,4))\n",
    "plt.title('med_cert = False')\n",
    "\n",
    "plt.subplot(1, 2, 2)\n",
    "plt.plot(x, norm.pdf(x,0,10))\n",
    "plt.title('med_cert = True')\n",
    "\n",
    "plt.show()"
   ]
  },
  {
   "cell_type": "code",
   "execution_count": 4,
   "metadata": {},
   "outputs": [],
   "source": [
    "term_paper_data = pd.DataFrame([], columns=['days_late', 'medical_certificate', 'accepted'])"
   ]
  },
  {
   "cell_type": "code",
   "execution_count": 5,
   "metadata": {},
   "outputs": [],
   "source": [
    "threshold = (norm.pdf(0,0,4)/2, norm.pdf(0,0,10)/2)\n",
    "flip_probability = 1e-2\n",
    "for days in range(15) :\n",
    "    for mc in [False, True] :\n",
    "        if mc :\n",
    "            acc = norm.pdf(days, 0, 10) > threshold[mc]\n",
    "        else :\n",
    "            acc = norm.pdf(days, 0, 4) > threshold[mc]\n",
    "        \n",
    "        if np.random.random() < flip_probability : \n",
    "            acc = ~acc\n",
    "        \n",
    "        tmp = pd.DataFrame([[days, mc, acc]], columns=['days_late', 'medical_certificate', 'accepted'])\n",
    "        term_paper_data = term_paper_data.append(tmp, ignore_index=True)"
   ]
  },
  {
   "cell_type": "code",
   "execution_count": 6,
   "metadata": {},
   "outputs": [],
   "source": [
    "term_paper_data.to_csv('term_paper_data.csv', index=False)"
   ]
  },
  {
   "cell_type": "code",
   "execution_count": null,
   "metadata": {},
   "outputs": [],
   "source": []
  }
 ],
 "metadata": {
  "kernelspec": {
   "display_name": "Python 2",
   "language": "python",
   "name": "python2"
  },
  "language_info": {
   "codemirror_mode": {
    "name": "ipython",
    "version": 2
   },
   "file_extension": ".py",
   "mimetype": "text/x-python",
   "name": "python",
   "nbconvert_exporter": "python",
   "pygments_lexer": "ipython2",
   "version": "2.7.6"
  }
 },
 "nbformat": 4,
 "nbformat_minor": 2
}
